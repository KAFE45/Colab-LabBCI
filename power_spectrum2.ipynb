{
  "nbformat": 4,
  "nbformat_minor": 0,
  "metadata": {
    "colab": {
      "provenance": [],
      "authorship_tag": "ABX9TyPqoXYD3wqGz6kWAOuj9Oks",
      "include_colab_link": true
    },
    "kernelspec": {
      "name": "python3",
      "display_name": "Python 3"
    },
    "language_info": {
      "name": "python"
    }
  },
  "cells": [
    {
      "cell_type": "markdown",
      "metadata": {
        "id": "view-in-github",
        "colab_type": "text"
      },
      "source": [
        "<a href=\"https://colab.research.google.com/github/KAFE45/Colab-LabBCI/blob/main/power_spectrum2.ipynb\" target=\"_parent\"><img src=\"https://colab.research.google.com/assets/colab-badge.svg\" alt=\"Open In Colab\"/></a>"
      ]
    },
    {
      "cell_type": "markdown",
      "source": [
        "# **Input library ❗**"
      ],
      "metadata": {
        "id": "AJwiN1ddTMPZ"
      }
    },
    {
      "cell_type": "code",
      "source": [
        "!pip install pyxdf\n",
        "!pip install mne\n",
        "!pip install numpy"
      ],
      "metadata": {
        "id": "1WMX0qhQ0H1N"
      },
      "execution_count": null,
      "outputs": []
    },
    {
      "cell_type": "markdown",
      "source": [
        "### Run ในกรณีที่ยังไม่มี Data โดยโค้ดตัวนี้จะทำการ import data 2 รอบ เพื่อนำมาเปรียบเทียบ❗"
      ],
      "metadata": {
        "id": "Wl-ZsJJrTsfX"
      }
    },
    {
      "cell_type": "code",
      "execution_count": null,
      "metadata": {
        "id": "r4Injk5lxNcA"
      },
      "outputs": [],
      "source": [
        "from google.colab import files\n",
        "import pyxdf\n",
        "import pandas as pd\n",
        "import numpy as np\n",
        "import matplotlib.pyplot as plt\n",
        "from scipy.fft import fft\n",
        "\n",
        "def load_data(filepath):\n",
        "    streams, header = pyxdf.load_xdf(filepath)\n",
        "\n",
        "    # ค้นหา stream ชนิด 'signal' ที่ชื่อ 'eeg'\n",
        "    eeg_stream = None\n",
        "    for stream in streams:\n",
        "        if stream['info']['name'][0] == 'eeg' and stream['info']['type'][0] == 'signal':\n",
        "            eeg_stream = stream\n",
        "            break\n",
        "\n",
        "    if eeg_stream is None:\n",
        "        raise ValueError(f\"ไม่พบ stream ชื่อ 'eeg' ในไฟล์ {filepath}\")\n",
        "\n",
        "    # ดึงข้อมูลจาก stream\n",
        "    data = eeg_stream['time_series']\n",
        "    sampling_rate = float(eeg_stream['info']['nominal_srate'][0])\n",
        "    channel_names = eeg_stream['info']['desc'][0]['channels'][0]['channel']\n",
        "    channel_labels = [chan['label'][0] for chan in channel_names]\n",
        "\n",
        "    # สร้าง DataFrame\n",
        "    df = pd.DataFrame(data, columns=channel_labels)\n",
        "\n",
        "    return df, sampling_rate\n",
        "\n",
        "def plot_power_spectrum(df, sampling_rate, channels, title_prefix, color='blue'):\n",
        "    plt.figure(figsize=(15, 10))\n",
        "\n",
        "    for i, channel in enumerate(channels):\n",
        "        if channel in df.columns:\n",
        "            # ดึงสัญญาณสำหรับช่องนี้\n",
        "            signal = df[channel].values\n",
        "\n",
        "            # คำนวณ FFT\n",
        "            N = len(signal)\n",
        "            T = 1.0 / sampling_rate\n",
        "            yf = fft(signal)\n",
        "            xf = np.fft.fftfreq(N, T)[:N // 2]\n",
        "\n",
        "            # คำนวณพลังงาน\n",
        "            power_spectrum = 2.0 / N * np.abs(yf[:N // 2])\n",
        "\n",
        "            # Plot Power Spectrum\n",
        "            plt.subplot(len(channels), 1, i + 1)\n",
        "            plt.plot(xf, power_spectrum, color=color, label=f'{title_prefix} {channel}')\n",
        "            plt.title(f'Power Spectrum for {channel}')\n",
        "            plt.xlabel('Frequency (Hz)')\n",
        "            plt.ylabel('Power')\n",
        "            plt.legend()\n",
        "        else:\n",
        "            print(f'Warning: {channel} not found in data columns.')\n",
        "\n",
        "    plt.tight_layout()\n",
        "\n",
        "# ขั้นตอนที่ 1: อัปโหลดไฟล์ XDF\n",
        "print(\"โปรดอัปโหลดไฟล์ XDF\")\n",
        "uploaded = files.upload()\n",
        "\n",
        "# เลือกไฟล์ XDF ที่อัปโหลด\n",
        "xdf_file1 = list(uploaded.keys())[0]\n",
        "print(f\"อัปโหลดไฟล์: {xdf_file1}\")\n",
        "\n",
        "# อัปโหลดไฟล์ XDF อีกไฟล์\n",
        "print(\"โปรดอัปโหลดไฟล์ XDF ที่สอง\")\n",
        "uploaded = files.upload()\n",
        "\n",
        "xdf_file2 = list(uploaded.keys())[0]\n",
        "print(f\"อัปโหลดไฟล์: {xdf_file2}\")\n",
        "\n",
        "# โหลดข้อมูลจากไฟล์ทั้งสอง\n",
        "df1, sampling_rate1 = load_data(xdf_file1)\n",
        "df2, sampling_rate2 = load_data(xdf_file2)\n",
        "\n",
        "# ช่องที่เราต้องการ plot\n",
        "channels = ['O1', 'Fz', 'O2', 'Cz', 'Fpz']\n",
        "\n",
        "# Plot สำหรับไฟล์แรก\n",
        "plot_power_spectrum(df1, sampling_rate1, channels, 'File 1', color='blue')\n",
        "\n",
        "# Plot สำหรับไฟล์ที่สอง\n",
        "plot_power_spectrum(df2, sampling_rate2, channels, 'File 2', color='red')\n",
        "\n",
        "plt.show()\n"
      ]
    },
    {
      "cell_type": "markdown",
      "source": [
        "### Run ในกรณีที่มี Data โดยโค้ดตัวนี้จะทำการ import data 2 รอบ เพื่อนำมาเปรียบเทียบ ยำว่าไปเอาพาสมานะ❗"
      ],
      "metadata": {
        "id": "cSiVIBwyUtC9"
      }
    },
    {
      "cell_type": "code",
      "source": [
        "import pyxdf\n",
        "import pandas as pd\n",
        "import numpy as np\n",
        "import matplotlib.pyplot as plt\n",
        "from scipy.fft import fft\n",
        "\n",
        "def load_data(filepath):\n",
        "    streams, header = pyxdf.load_xdf(filepath)\n",
        "\n",
        "    # ค้นหา stream ชนิด 'signal' ที่ชื่อ 'eeg'\n",
        "    eeg_stream = None\n",
        "    for stream in streams:\n",
        "        if stream['info']['name'][0] == 'eeg' and stream['info']['type'][0] == 'signal':\n",
        "            eeg_stream = stream\n",
        "            break\n",
        "\n",
        "    if eeg_stream is None:\n",
        "        raise ValueError(f\"ไม่พบ stream ชื่อ 'eeg' ในไฟล์ {filepath}\")\n",
        "\n",
        "    # ดึงข้อมูลจาก stream\n",
        "    data = eeg_stream['time_series']\n",
        "    sampling_rate = float(eeg_stream['info']['nominal_srate'][0])\n",
        "    channel_names = eeg_stream['info']['desc'][0]['channels'][0]['channel']\n",
        "    channel_labels = [chan['label'][0] for chan in channel_names]\n",
        "\n",
        "    # สร้าง DataFrame\n",
        "    df = pd.DataFrame(data, columns=channel_labels)\n",
        "\n",
        "    return df, sampling_rate\n",
        "\n",
        "def plot_power_spectrum(df, sampling_rate, channels, title_prefix, color='blue'):\n",
        "    plt.figure(figsize=(15, 10))\n",
        "\n",
        "    for i, channel in enumerate(channels):\n",
        "        if channel in df.columns:\n",
        "            # ดึงสัญญาณสำหรับช่องนี้\n",
        "            signal = df[channel].values\n",
        "\n",
        "            # คำนวณ FFT\n",
        "            N = len(signal)\n",
        "            T = 1.0 / sampling_rate\n",
        "            yf = fft(signal)\n",
        "            xf = np.fft.fftfreq(N, T)[:N // 2]\n",
        "\n",
        "            # คำนวณพลังงาน\n",
        "            power_spectrum = 2.0 / N * np.abs(yf[:N // 2])\n",
        "\n",
        "            # Plot Power Spectrum\n",
        "            plt.subplot(len(channels), 1, i + 1)\n",
        "            plt.plot(xf, power_spectrum, color=color, label=f'{title_prefix} {channel}')\n",
        "            plt.title(f'Power Spectrum for {channel}')\n",
        "            plt.xlabel('Frequency (Hz)')\n",
        "            plt.ylabel('Power')\n",
        "            plt.legend()\n",
        "        else:\n",
        "            print(f'Warning: {channel} not found in data columns.')\n",
        "\n",
        "    plt.tight_layout()\n",
        "\n",
        "# โหลดข้อมูลจากไฟล์ทั้งสอง\n",
        "df1, sampling_rate1 = load_data('/content/sub-testttt_ses-gfdgfdgdfgfdgfdgfdg_task-Default_run-001_eeg (1).xdf')\n",
        "df2, sampling_rate2 = load_data('/content/sub-testttt_ses-SSVEP10_task-Default_run-001_eeg.xdf')\n",
        "\n",
        "# ช่องที่เราต้องการ plot\n",
        "channels = ['O1', 'Fz', 'O2', 'Cz', 'Fpz']\n",
        "\n",
        "# Plot สำหรับไฟล์แรก\n",
        "plot_power_spectrum(df1, sampling_rate1, channels, 'File 1', color='blue')\n",
        "\n",
        "# Plot สำหรับไฟล์ที่สอง\n",
        "plot_power_spectrum(df2, sampling_rate2, channels, 'File 2', color='red')\n",
        "\n",
        "plt.show()\n"
      ],
      "metadata": {
        "id": "MUutS-kgTJma"
      },
      "execution_count": null,
      "outputs": []
    }
  ]
}