{
  "cells": [
    {
      "cell_type": "markdown",
      "metadata": {
        "id": "view-in-github",
        "colab_type": "text"
      },
      "source": [
        "<a href=\"https://colab.research.google.com/github/KAFE45/Colab-LabBCI/blob/main/KAFE.ipynb\" target=\"_parent\"><img src=\"https://colab.research.google.com/assets/colab-badge.svg\" alt=\"Open In Colab\"/></a>"
      ]
    },
    {
      "cell_type": "code",
      "execution_count": null,
      "metadata": {
        "colab": {
          "base_uri": "https://localhost:8080/"
        },
        "id": "bRm5ZpwWdhd8",
        "outputId": "1f640fe8-a9ac-440a-cce8-1f23db0c1b19"
      },
      "outputs": [
        {
          "output_type": "stream",
          "name": "stdout",
          "text": [
            "Requirement already satisfied: mne in /usr/local/lib/python3.10/dist-packages (1.8.0)\n",
            "Requirement already satisfied: pyxdf in /usr/local/lib/python3.10/dist-packages (1.16.8)\n",
            "Requirement already satisfied: decorator in /usr/local/lib/python3.10/dist-packages (from mne) (4.4.2)\n",
            "Requirement already satisfied: jinja2 in /usr/local/lib/python3.10/dist-packages (from mne) (3.1.4)\n",
            "Requirement already satisfied: lazy-loader>=0.3 in /usr/local/lib/python3.10/dist-packages (from mne) (0.4)\n",
            "Requirement already satisfied: matplotlib>=3.6 in /usr/local/lib/python3.10/dist-packages (from mne) (3.7.1)\n",
            "Requirement already satisfied: numpy<3,>=1.23 in /usr/local/lib/python3.10/dist-packages (from mne) (1.26.4)\n",
            "Requirement already satisfied: packaging in /usr/local/lib/python3.10/dist-packages (from mne) (24.1)\n",
            "Requirement already satisfied: pooch>=1.5 in /usr/local/lib/python3.10/dist-packages (from mne) (1.8.2)\n",
            "Requirement already satisfied: scipy>=1.9 in /usr/local/lib/python3.10/dist-packages (from mne) (1.13.1)\n",
            "Requirement already satisfied: tqdm in /usr/local/lib/python3.10/dist-packages (from mne) (4.66.5)\n",
            "Requirement already satisfied: contourpy>=1.0.1 in /usr/local/lib/python3.10/dist-packages (from matplotlib>=3.6->mne) (1.3.0)\n",
            "Requirement already satisfied: cycler>=0.10 in /usr/local/lib/python3.10/dist-packages (from matplotlib>=3.6->mne) (0.12.1)\n",
            "Requirement already satisfied: fonttools>=4.22.0 in /usr/local/lib/python3.10/dist-packages (from matplotlib>=3.6->mne) (4.53.1)\n",
            "Requirement already satisfied: kiwisolver>=1.0.1 in /usr/local/lib/python3.10/dist-packages (from matplotlib>=3.6->mne) (1.4.7)\n",
            "Requirement already satisfied: pillow>=6.2.0 in /usr/local/lib/python3.10/dist-packages (from matplotlib>=3.6->mne) (10.4.0)\n",
            "Requirement already satisfied: pyparsing>=2.3.1 in /usr/local/lib/python3.10/dist-packages (from matplotlib>=3.6->mne) (3.1.4)\n",
            "Requirement already satisfied: python-dateutil>=2.7 in /usr/local/lib/python3.10/dist-packages (from matplotlib>=3.6->mne) (2.8.2)\n",
            "Requirement already satisfied: platformdirs>=2.5.0 in /usr/local/lib/python3.10/dist-packages (from pooch>=1.5->mne) (4.3.6)\n",
            "Requirement already satisfied: requests>=2.19.0 in /usr/local/lib/python3.10/dist-packages (from pooch>=1.5->mne) (2.32.3)\n",
            "Requirement already satisfied: MarkupSafe>=2.0 in /usr/local/lib/python3.10/dist-packages (from jinja2->mne) (2.1.5)\n",
            "Requirement already satisfied: six>=1.5 in /usr/local/lib/python3.10/dist-packages (from python-dateutil>=2.7->matplotlib>=3.6->mne) (1.16.0)\n",
            "Requirement already satisfied: charset-normalizer<4,>=2 in /usr/local/lib/python3.10/dist-packages (from requests>=2.19.0->pooch>=1.5->mne) (3.3.2)\n",
            "Requirement already satisfied: idna<4,>=2.5 in /usr/local/lib/python3.10/dist-packages (from requests>=2.19.0->pooch>=1.5->mne) (3.10)\n",
            "Requirement already satisfied: urllib3<3,>=1.21.1 in /usr/local/lib/python3.10/dist-packages (from requests>=2.19.0->pooch>=1.5->mne) (2.2.3)\n",
            "Requirement already satisfied: certifi>=2017.4.17 in /usr/local/lib/python3.10/dist-packages (from requests>=2.19.0->pooch>=1.5->mne) (2024.8.30)\n"
          ]
        }
      ],
      "source": [
        "pip install mne pyxdf"
      ]
    },
    {
      "cell_type": "code",
      "execution_count": null,
      "metadata": {
        "id": "Md84m7P_d3GY"
      },
      "outputs": [],
      "source": [
        "import pyxdf\n",
        "import pandas as pd\n",
        "import numpy as np\n",
        "import matplotlib.pyplot as plt\n",
        "from scipy.signal import butter, filtfilt\n",
        "from google.colab import files\n",
        "import io\n",
        "from scipy.fft import fft"
      ]
    },
    {
      "cell_type": "code",
      "execution_count": null,
      "metadata": {
        "colab": {
          "base_uri": "https://localhost:8080/",
          "height": 94
        },
        "id": "-wOi6jd8d9Re",
        "outputId": "3538d08e-043e-4de9-cea1-b92dfaf6b93d"
      },
      "outputs": [
        {
          "output_type": "display_data",
          "data": {
            "text/plain": [
              "<IPython.core.display.HTML object>"
            ],
            "text/html": [
              "\n",
              "     <input type=\"file\" id=\"files-2d6e6dd6-aedb-48c7-8fd3-496878ca6e29\" name=\"files[]\" multiple disabled\n",
              "        style=\"border:none\" />\n",
              "     <output id=\"result-2d6e6dd6-aedb-48c7-8fd3-496878ca6e29\">\n",
              "      Upload widget is only available when the cell has been executed in the\n",
              "      current browser session. Please rerun this cell to enable.\n",
              "      </output>\n",
              "      <script>// Copyright 2017 Google LLC\n",
              "//\n",
              "// Licensed under the Apache License, Version 2.0 (the \"License\");\n",
              "// you may not use this file except in compliance with the License.\n",
              "// You may obtain a copy of the License at\n",
              "//\n",
              "//      http://www.apache.org/licenses/LICENSE-2.0\n",
              "//\n",
              "// Unless required by applicable law or agreed to in writing, software\n",
              "// distributed under the License is distributed on an \"AS IS\" BASIS,\n",
              "// WITHOUT WARRANTIES OR CONDITIONS OF ANY KIND, either express or implied.\n",
              "// See the License for the specific language governing permissions and\n",
              "// limitations under the License.\n",
              "\n",
              "/**\n",
              " * @fileoverview Helpers for google.colab Python module.\n",
              " */\n",
              "(function(scope) {\n",
              "function span(text, styleAttributes = {}) {\n",
              "  const element = document.createElement('span');\n",
              "  element.textContent = text;\n",
              "  for (const key of Object.keys(styleAttributes)) {\n",
              "    element.style[key] = styleAttributes[key];\n",
              "  }\n",
              "  return element;\n",
              "}\n",
              "\n",
              "// Max number of bytes which will be uploaded at a time.\n",
              "const MAX_PAYLOAD_SIZE = 100 * 1024;\n",
              "\n",
              "function _uploadFiles(inputId, outputId) {\n",
              "  const steps = uploadFilesStep(inputId, outputId);\n",
              "  const outputElement = document.getElementById(outputId);\n",
              "  // Cache steps on the outputElement to make it available for the next call\n",
              "  // to uploadFilesContinue from Python.\n",
              "  outputElement.steps = steps;\n",
              "\n",
              "  return _uploadFilesContinue(outputId);\n",
              "}\n",
              "\n",
              "// This is roughly an async generator (not supported in the browser yet),\n",
              "// where there are multiple asynchronous steps and the Python side is going\n",
              "// to poll for completion of each step.\n",
              "// This uses a Promise to block the python side on completion of each step,\n",
              "// then passes the result of the previous step as the input to the next step.\n",
              "function _uploadFilesContinue(outputId) {\n",
              "  const outputElement = document.getElementById(outputId);\n",
              "  const steps = outputElement.steps;\n",
              "\n",
              "  const next = steps.next(outputElement.lastPromiseValue);\n",
              "  return Promise.resolve(next.value.promise).then((value) => {\n",
              "    // Cache the last promise value to make it available to the next\n",
              "    // step of the generator.\n",
              "    outputElement.lastPromiseValue = value;\n",
              "    return next.value.response;\n",
              "  });\n",
              "}\n",
              "\n",
              "/**\n",
              " * Generator function which is called between each async step of the upload\n",
              " * process.\n",
              " * @param {string} inputId Element ID of the input file picker element.\n",
              " * @param {string} outputId Element ID of the output display.\n",
              " * @return {!Iterable<!Object>} Iterable of next steps.\n",
              " */\n",
              "function* uploadFilesStep(inputId, outputId) {\n",
              "  const inputElement = document.getElementById(inputId);\n",
              "  inputElement.disabled = false;\n",
              "\n",
              "  const outputElement = document.getElementById(outputId);\n",
              "  outputElement.innerHTML = '';\n",
              "\n",
              "  const pickedPromise = new Promise((resolve) => {\n",
              "    inputElement.addEventListener('change', (e) => {\n",
              "      resolve(e.target.files);\n",
              "    });\n",
              "  });\n",
              "\n",
              "  const cancel = document.createElement('button');\n",
              "  inputElement.parentElement.appendChild(cancel);\n",
              "  cancel.textContent = 'Cancel upload';\n",
              "  const cancelPromise = new Promise((resolve) => {\n",
              "    cancel.onclick = () => {\n",
              "      resolve(null);\n",
              "    };\n",
              "  });\n",
              "\n",
              "  // Wait for the user to pick the files.\n",
              "  const files = yield {\n",
              "    promise: Promise.race([pickedPromise, cancelPromise]),\n",
              "    response: {\n",
              "      action: 'starting',\n",
              "    }\n",
              "  };\n",
              "\n",
              "  cancel.remove();\n",
              "\n",
              "  // Disable the input element since further picks are not allowed.\n",
              "  inputElement.disabled = true;\n",
              "\n",
              "  if (!files) {\n",
              "    return {\n",
              "      response: {\n",
              "        action: 'complete',\n",
              "      }\n",
              "    };\n",
              "  }\n",
              "\n",
              "  for (const file of files) {\n",
              "    const li = document.createElement('li');\n",
              "    li.append(span(file.name, {fontWeight: 'bold'}));\n",
              "    li.append(span(\n",
              "        `(${file.type || 'n/a'}) - ${file.size} bytes, ` +\n",
              "        `last modified: ${\n",
              "            file.lastModifiedDate ? file.lastModifiedDate.toLocaleDateString() :\n",
              "                                    'n/a'} - `));\n",
              "    const percent = span('0% done');\n",
              "    li.appendChild(percent);\n",
              "\n",
              "    outputElement.appendChild(li);\n",
              "\n",
              "    const fileDataPromise = new Promise((resolve) => {\n",
              "      const reader = new FileReader();\n",
              "      reader.onload = (e) => {\n",
              "        resolve(e.target.result);\n",
              "      };\n",
              "      reader.readAsArrayBuffer(file);\n",
              "    });\n",
              "    // Wait for the data to be ready.\n",
              "    let fileData = yield {\n",
              "      promise: fileDataPromise,\n",
              "      response: {\n",
              "        action: 'continue',\n",
              "      }\n",
              "    };\n",
              "\n",
              "    // Use a chunked sending to avoid message size limits. See b/62115660.\n",
              "    let position = 0;\n",
              "    do {\n",
              "      const length = Math.min(fileData.byteLength - position, MAX_PAYLOAD_SIZE);\n",
              "      const chunk = new Uint8Array(fileData, position, length);\n",
              "      position += length;\n",
              "\n",
              "      const base64 = btoa(String.fromCharCode.apply(null, chunk));\n",
              "      yield {\n",
              "        response: {\n",
              "          action: 'append',\n",
              "          file: file.name,\n",
              "          data: base64,\n",
              "        },\n",
              "      };\n",
              "\n",
              "      let percentDone = fileData.byteLength === 0 ?\n",
              "          100 :\n",
              "          Math.round((position / fileData.byteLength) * 100);\n",
              "      percent.textContent = `${percentDone}% done`;\n",
              "\n",
              "    } while (position < fileData.byteLength);\n",
              "  }\n",
              "\n",
              "  // All done.\n",
              "  yield {\n",
              "    response: {\n",
              "      action: 'complete',\n",
              "    }\n",
              "  };\n",
              "}\n",
              "\n",
              "scope.google = scope.google || {};\n",
              "scope.google.colab = scope.google.colab || {};\n",
              "scope.google.colab._files = {\n",
              "  _uploadFiles,\n",
              "  _uploadFilesContinue,\n",
              "};\n",
              "})(self);\n",
              "</script> "
            ]
          },
          "metadata": {}
        },
        {
          "output_type": "stream",
          "name": "stdout",
          "text": [
            "Saving sub-DataSSVEP551_ses-S002_task-Default_run-001_eeg.xdf to sub-DataSSVEP551_ses-S002_task-Default_run-001_eeg.xdf\n"
          ]
        }
      ],
      "source": [
        "# Upload file\n",
        "uploaded = files.upload()\n",
        "\n",
        "# Select uploaded file\n",
        "file_name = list(uploaded.keys())[0]"
      ]
    },
    {
      "cell_type": "code",
      "execution_count": null,
      "metadata": {
        "id": "nckKbdwWeDJ4"
      },
      "outputs": [],
      "source": [
        "# ฟังก์ชันสำหรับโหลดข้อมูลจากไฟล์ .xdf\n",
        "def load_data(filepath):\n",
        "    streams, header = pyxdf.load_xdf(filepath)\n",
        "\n",
        "    eeg_stream = None\n",
        "    marker_stream = None\n",
        "    for stream in streams:\n",
        "        if stream['info']['name'][0] == 'eeg' and stream['info']['type'][0] == 'signal':\n",
        "            eeg_stream = stream\n",
        "        elif stream['info']['type'][0] == 'Markers':\n",
        "            marker_stream = stream\n",
        "\n",
        "    if eeg_stream is None:\n",
        "        raise ValueError(f\"ไม่พบ stream ชื่อ 'eeg' ในไฟล์ {filepath}\")\n",
        "\n",
        "    data = eeg_stream['time_series']\n",
        "    sampling_rate = float(eeg_stream['info']['nominal_srate'][0])\n",
        "    channel_names = eeg_stream['info']['desc'][0]['channels'][0]['channel']\n",
        "    channel_labels = [chan['label'][0] for chan in channel_names]\n",
        "\n",
        "    df = pd.DataFrame(data, columns=channel_labels)\n",
        "\n",
        "    markers = []\n",
        "    if marker_stream:\n",
        "        marker_times = marker_stream['time_stamps']\n",
        "        marker_values = marker_stream['time_series']\n",
        "        markers = list(zip(marker_times, marker_values))\n",
        "\n",
        "    return df, sampling_rate, markers"
      ]
    },
    {
      "cell_type": "code",
      "execution_count": null,
      "metadata": {
        "colab": {
          "background_save": true
        },
        "id": "MF9i8n0riV30"
      },
      "outputs": [],
      "source": [
        "# ฟังก์ชันสำหรับตัดสัญญาณ EEG รอบๆ มาร์กเกอร์ที่เลือก\n",
        "def cut_signal_for_selected_markers(df, sampling_rate, markers, selected_markers, pre_marker_sec=1, post_marker_sec=2):\n",
        "    cut_segments = []\n",
        "    for timestamp, marker in markers:\n",
        "        marker_value = marker[0]\n",
        "\n",
        "        # ตรวจสอบว่าค่ามาร์กเกอร์อยู่ในรายการมาร์กเกอร์ที่ต้องการหรือไม่\n",
        "        if marker_value in selected_markers:\n",
        "            # คำนวณตำแหน่งเริ่มต้นและสิ้นสุดสำหรับช่วงสัญญาณ\n",
        "            start_idx = int((timestamp - pre_marker_sec) * sampling_rate)\n",
        "            end_idx = int((timestamp + post_marker_sec) * sampling_rate)\n",
        "\n",
        "            # ตรวจสอบว่าตำแหน่งอยู่ภายในขอบเขตข้อมูล\n",
        "            if start_idx >= 0 and end_idx <= len(df):\n",
        "                segment = df.iloc[start_idx:end_idx]  # ตัดสัญญาณช่วงที่สนใจ\n",
        "                cut_segments.append((segment, marker_value))\n",
        "\n",
        "    return cut_segments\n",
        "\n",
        "# โหลดข้อมูลจากไฟล์ .xdf\n",
        "eeg_data, sampling_rate, markers_data = load_data('/content/sub-DataSSVEP551_ses-S002_task-Default_run-001_eeg.xdf')\n",
        "\n",
        "# แสดงมาร์กเกอร์ทั้งหมดที่พบในไฟล์\n",
        "print(\"Markers from File:\")\n",
        "for timestamp, marker in markers_data:\n",
        "    print(f\"Timestamp: {timestamp:.2f}, Marker: {marker[0]}\")\n",
        "\n",
        "# กำหนดมาร์กเกอร์ที่สนใจ\n",
        "selected_markers = [1, 2, 4]\n",
        "\n",
        "# ตัดสัญญาณ EEG รอบๆ มาร์กเกอร์ที่เลือก\n",
        "cut_segments = cut_signal_for_selected_markers(eeg_data, sampling_rate, markers_data, selected_markers)\n",
        "\n",
        "# แสดงผลช่วงที่ตัด\n",
        "for segment, marker in cut_segments:\n",
        "    print(f\"Marker {marker} - Signal Segment: \\n{segment}\\n\")\n",
        "    print(\"-\" * 40)  # เส้นแบ่งระหว่างช่วงสัญญาณ\n"
      ]
    },
    {
      "cell_type": "code",
      "execution_count": null,
      "metadata": {
        "colab": {
          "background_save": true
        },
        "id": "j-rZzvCkoDBU"
      },
      "outputs": [],
      "source": [
        "# สมมุติให้ eeg_stream และ marker_stream ชื่อของสตรีมที่ใช้\n",
        "eeg_stream = [s for s in streams if s['info']['name'][0] == 'eeg'][0]\n",
        "marker_stream = [s for s in streams if s['info']['name'][0] == 'PsychoPyMarkers'][0]\n",
        "\n",
        "# รับข้อมูลสัญญาณ EEG และมาร์กเกอร์\n",
        "eeg_data = eeg_stream['time_series']\n",
        "markers = marker_stream['time_series']\n",
        "\n",
        "# กำหนดมาร์กเกอร์ที่ใช้สำหรับ SSVEP\n",
        "ssvep_5hz_trigger_start = 2  # Start trigger for SSVEP 5 Hz\n",
        "ssvep_5hz_trigger_end = 12    # End trigger for SSVEP 5 Hz\n",
        "ssvep_7hz_trigger_start = 4   # Start trigger for SSVEP 7 Hz\n",
        "ssvep_7hz_trigger_end = 14     # End trigger for SSVEP 7 Hz\n",
        "\n",
        "# ฟังก์ชันในการตัดสัญญาณตามมาร์กเกอร์\n",
        "def cut_ssvep_segments(eeg_data, markers, start_triggers, end_triggers, pre_time=1, post_time=2, fs=256):\n",
        "    segments = []\n",
        "    for marker in markers:\n",
        "        # ตรวจสอบการจับคู่กับมาร์กเกอร์ที่เริ่มต้นและสิ้นสุด\n",
        "        if marker[0] in start_triggers:\n",
        "            start_idx = int((marker[0] - pre_time) * fs)  # คำนวณเวลาเริ่มต้น\n",
        "            end_idx = int((end_triggers[start_triggers.index(marker[0])] + post_time) * fs)  # คำนวณเวลาสิ้นสุด\n",
        "            segment = eeg_data[start_idx:end_idx]  # ตัดสัญญาณ\n",
        "            segments.append(segment)\n",
        "    return segments\n",
        "\n",
        "# กำหนดลิสต์สำหรับการจับคู่มาร์กเกอร์เริ่มต้นและสิ้นสุด\n",
        "start_triggers = [ssvep_5hz_trigger_start, ssvep_7hz_trigger_start]\n",
        "end_triggers = [ssvep_5hz_trigger_end, ssvep_7hz_trigger_end]\n",
        "\n",
        "# ตัดสัญญาณ EEG ตามมาร์กเกอร์\n",
        "eeg_segments = cut_ssvep_segments(eeg_data, markers, start_triggers, end_triggers)\n",
        "\n",
        "# Bandpass filter function\n",
        "def butter_bandpass(lowcut, highcut, fs, order=5):\n",
        "    nyq = 0.5 * fs\n",
        "    low = lowcut / nyq\n",
        "    high = highcut / nyq\n",
        "    b, a = butter(order, [low, high], btype='band')\n",
        "    return b, a\n",
        "\n",
        "def bandpass_filter(data, lowcut, highcut, fs, order=5):\n",
        "    b, a = butter_bandpass(lowcut, highcut, fs, order=order)\n",
        "    y = filtfilt(b, a, data)\n",
        "    return y\n",
        "\n",
        "    # Plot power spectrum\n",
        "def plot_power_spectrum(df, sampling_rate, markers, channels, title_prefix, color='blue', target_freqs=[5, 7], bandwidth=2):\n",
        "    plt.figure(figsize=(15, 20))\n",
        "\n",
        "    for i, channel in enumerate(channels):\n",
        "        if channel in df.columns:\n",
        "            signal = df[channel].values\n",
        "            filtered_signal = bandpass_filter(signal, 1, 50, sampling_rate)\n",
        "\n",
        "            N = len(filtered_signal)\n",
        "            T = 1.0 / sampling_rate\n",
        "            yf = fft(filtered_signal)\n",
        "            xf = np.fft.fftfreq(N, T)[:N // 2]\n",
        "            power_spectrum = 2.0 / N * np.abs(yf[:N // 2])\n",
        "\n",
        "            plt.subplot(len(channels), 1, i + 1)\n",
        "            plt.plot(xf, power_spectrum, color=color, label=f'{title_prefix} {channel}')\n",
        "            plt.title(f'Power Spectrum for {channel}')\n",
        "            plt.xlabel('Frequency (Hz)')\n",
        "            plt.ylabel('Power')\n",
        "            plt.grid()\n",
        "            plt.xlim(0, 10)\n",
        "            plt.xticks(np.arange(1, 11, 1))\n",
        "\n",
        "            for target_freq in target_freqs:\n",
        "                plt.axvspan(target_freq - bandwidth, target_freq + bandwidth, color='orange', alpha=0.3, label=f'Target: {target_freq} Hz ±{bandwidth} Hz')\n",
        "\n",
        "            plt.legend()\n",
        "        else:\n",
        "            print(f'Warning: {channel} not found in data columns.')\n",
        "\n",
        "    plt.tight_layout()\n",
        "    plt.show()\n",
        "\n",
        "# แสดงผล\n",
        "\n",
        "for i, segment in enumerate(eeg_segments):\n",
        "  # Plot power spectrum for each selected segment\n",
        "channels = ['O1', 'Fz', 'O2', 'Cz', 'Pz']\n",
        "plot_power_spectrum(df1, sampling_rate1, markers1, channels, 'File 1', color='blue', target_freqs=[5, 7], bandwidth=2)\n",
        "    plt.figure()\n",
        "    plt.plot(segment)\n",
        "    plt.title(f'EEG Segment for SSVEP {5 + 2*i} Hz')  # เปลี่ยนชื่อเป็น 5 Hz และ 7 Hz\n",
        "    plt.xlabel('Time (samples)')\n",
        "    plt.ylabel('Amplitude')\n",
        "    plt.show()"
      ]
    },
    {
      "cell_type": "code",
      "source": [
        "# สมมุติให้ eeg_stream และ marker_stream ชื่อของสตรีมที่ใช้\n",
        "eeg_stream = [s for s in streams if s['info']['name'][0] == 'eeg'][0]\n",
        "marker_stream = [s for s in streams if s['info']['name'][0] == 'PsychoPyMarkers'][0]\n",
        "\n",
        "# รับข้อมูลสัญญาณ EEG และมาร์กเกอร์\n",
        "eeg_data = eeg_stream['time_series']\n",
        "markers = marker_stream['time_series']\n",
        "\n",
        "# กำหนดมาร์กเกอร์ที่ใช้สำหรับ SSVEP\n",
        "ssvep_5hz_trigger_start = 2  # Start trigger for SSVEP 5 Hz\n",
        "ssvep_5hz_trigger_end = 12    # End trigger for SSVEP 5 Hz\n",
        "ssvep_7hz_trigger_start = 4   # Start trigger for SSVEP 7 Hz\n",
        "ssvep_7hz_trigger_end = 14     # End trigger for SSVEP 7 Hz\n",
        "\n",
        "# ฟังก์ชันในการตัดสัญญาณตามมาร์กเกอร์\n",
        "def cut_ssvep_segments(eeg_data, markers, start_triggers, end_triggers, pre_time=1, post_time=2, fs=256):\n",
        "    segments = []\n",
        "    for marker in markers:\n",
        "        # ตรวจสอบการจับคู่กับมาร์กเกอร์ที่เริ่มต้นและสิ้นสุด\n",
        "        if marker[0] in start_triggers:\n",
        "            start_idx = int((marker[0] - pre_time) * fs)  # คำนวณเวลาเริ่มต้น\n",
        "            end_idx = int((end_triggers[start_triggers.index(marker[0])] + post_time) * fs)  # คำนวณเวลาสิ้นสุด\n",
        "            segment = eeg_data[start_idx:end_idx]  # ตัดสัญญาณ\n",
        "            segments.append(segment)\n",
        "    return segments\n",
        "\n",
        "# กำหนดลิสต์สำหรับการจับคู่มาร์กเกอร์เริ่มต้นและสิ้นสุด\n",
        "start_triggers = [ssvep_5hz_trigger_start, ssvep_7hz_trigger_start]\n",
        "end_triggers = [ssvep_5hz_trigger_end, ssvep_7hz_trigger_end]\n",
        "\n",
        "# ตัดสัญญาณ EEG ตามมาร์กเกอร์\n",
        "eeg_segments = cut_ssvep_segments(eeg_data, markers, start_triggers, end_triggers)\n",
        "\n",
        "# Bandpass filter function\n",
        "def butter_bandpass(lowcut, highcut, fs, order=5):\n",
        "    nyq = 0.5 * fs\n",
        "    low = lowcut / nyq\n",
        "    high = highcut / nyq\n",
        "    b, a = butter(order, [low, high], btype='band')\n",
        "    return b, a\n",
        "\n",
        "def bandpass_filter(data, lowcut, highcut, fs, order=5):\n",
        "    if len(data) <= 33:  # Check if data length is appropriate for filtering\n",
        "        return data  # Skip filtering for too-short data\n",
        "    b, a = butter_bandpass(lowcut, highcut, fs, order=order)\n",
        "    y = filtfilt(b, a, data)\n",
        "    return y\n",
        "\n",
        "# Plot power spectrum\n",
        "def plot_power_spectrum(signal, sampling_rate, title_prefix, color='blue', target_freqs=[5, 7], bandwidth=2):\n",
        "    N = len(signal)\n",
        "    T = 1.0 / sampling_rate\n",
        "    yf = fft(signal)\n",
        "    xf = np.fft.fftfreq(N, T)[:N // 2]\n",
        "    power_spectrum = 2.0 / N * np.abs(yf[:N // 2])\n",
        "\n",
        "    plt.figure(figsize=(15, 5))\n",
        "    plt.plot(xf, power_spectrum, color=color, label=f'{title_prefix}')\n",
        "    plt.title(f'Power Spectrum for {title_prefix}')\n",
        "    plt.xlabel('Frequency (Hz)')\n",
        "    plt.ylabel('Power')\n",
        "    plt.grid()\n",
        "    plt.xlim(0, 10)\n",
        "    plt.xticks(np.arange(1, 11, 1))\n",
        "\n",
        "    for target_freq in target_freqs:\n",
        "        plt.axvspan(target_freq - bandwidth, target_freq + bandwidth, color='orange', alpha=0.3, label=f'Target: {target_freq} Hz ±{bandwidth} Hz')\n",
        "\n",
        "    plt.legend()\n",
        "    plt.show()\n",
        "\n",
        "# Bandpass filter function\n",
        "def butter_bandpass(lowcut, highcut, fs, order=5):\n",
        "    nyq = 0.5 * fs\n",
        "    low = lowcut / nyq\n",
        "    high = highcut / nyq\n",
        "    b, a = butter(order, [low, high], btype='band')\n",
        "    return b, a\n",
        "\n",
        "def bandpass_filter(data, lowcut, highcut, fs, order=5):\n",
        "    if len(data) <= 100:  # Increased length requirement for filtering\n",
        "        print(f\"Segment too short for filtering: {len(data)} samples.\")\n",
        "        return data  # Return original data if too short\n",
        "    b, a = butter_bandpass(lowcut, highcut, fs, order=order)\n",
        "    y = filtfilt(b, a, data)\n",
        "    return y\n",
        "\n",
        "# แสดงผล\n",
        "channels = ['O1', 'Fz', 'O2', 'Cz', 'Pz']\n",
        "sampling_rate = 256  # Adjust if necessary\n",
        "\n",
        "for i, segment in enumerate(eeg_segments):\n",
        "    print(f\"Processing segment {i} with length: {len(segment)} samples.\")  # Debugging information\n",
        "    if len(segment) > 100:  # Ensure segment is longer than the filter's pad length\n",
        "        filtered_segment = bandpass_filter(segment, 1, 50, sampling_rate)\n",
        "        plot_power_spectrum(filtered_segment, sampling_rate, f'SSVEP Segment {5 + 2*i} Hz', color='blue', target_freqs=[5, 7], bandwidth=2)\n",
        "\n",
        "        plt.figure()\n",
        "        plt.plot(segment)\n",
        "        plt.title(f'EEG Segment for SSVEP {5 + 2*i} Hz')  # เปลี่ยนชื่อเป็น 5 Hz และ 7 Hz\n",
        "        plt.xlabel('Time (samples)')\n",
        "        plt.ylabel('Amplitude')\n",
        "        plt.show()\n",
        "    else:\n",
        "        print(f'Segment {i} is too short for filtering: {len(segment)} samples.')\n",
        "\n"
      ],
      "metadata": {
        "colab": {
          "base_uri": "https://localhost:8080/",
          "height": 406
        },
        "id": "CA5UtvuDur11",
        "outputId": "8b33ab2c-7b9f-4544-de40-4cc372b8e526"
      },
      "execution_count": null,
      "outputs": [
        {
          "output_type": "stream",
          "name": "stdout",
          "text": [
            "Processing segment 0 with length: 3328 samples.\n"
          ]
        },
        {
          "output_type": "error",
          "ename": "ValueError",
          "evalue": "The length of the input vector x must be greater than padlen, which is 33.",
          "traceback": [
            "\u001b[0;31m---------------------------------------------------------------------------\u001b[0m",
            "\u001b[0;31mValueError\u001b[0m                                Traceback (most recent call last)",
            "\u001b[0;32m<ipython-input-73-d79dcdb0b0f6>\u001b[0m in \u001b[0;36m<cell line: 92>\u001b[0;34m()\u001b[0m\n\u001b[1;32m     93\u001b[0m     \u001b[0mprint\u001b[0m\u001b[0;34m(\u001b[0m\u001b[0;34mf\"Processing segment {i} with length: {len(segment)} samples.\"\u001b[0m\u001b[0;34m)\u001b[0m  \u001b[0;31m# Debugging information\u001b[0m\u001b[0;34m\u001b[0m\u001b[0;34m\u001b[0m\u001b[0m\n\u001b[1;32m     94\u001b[0m     \u001b[0;32mif\u001b[0m \u001b[0mlen\u001b[0m\u001b[0;34m(\u001b[0m\u001b[0msegment\u001b[0m\u001b[0;34m)\u001b[0m \u001b[0;34m>\u001b[0m \u001b[0;36m100\u001b[0m\u001b[0;34m:\u001b[0m  \u001b[0;31m# Ensure segment is longer than the filter's pad length\u001b[0m\u001b[0;34m\u001b[0m\u001b[0;34m\u001b[0m\u001b[0m\n\u001b[0;32m---> 95\u001b[0;31m         \u001b[0mfiltered_segment\u001b[0m \u001b[0;34m=\u001b[0m \u001b[0mbandpass_filter\u001b[0m\u001b[0;34m(\u001b[0m\u001b[0msegment\u001b[0m\u001b[0;34m,\u001b[0m \u001b[0;36m1\u001b[0m\u001b[0;34m,\u001b[0m \u001b[0;36m50\u001b[0m\u001b[0;34m,\u001b[0m \u001b[0msampling_rate\u001b[0m\u001b[0;34m)\u001b[0m\u001b[0;34m\u001b[0m\u001b[0;34m\u001b[0m\u001b[0m\n\u001b[0m\u001b[1;32m     96\u001b[0m         \u001b[0mplot_power_spectrum\u001b[0m\u001b[0;34m(\u001b[0m\u001b[0mfiltered_segment\u001b[0m\u001b[0;34m,\u001b[0m \u001b[0msampling_rate\u001b[0m\u001b[0;34m,\u001b[0m \u001b[0;34mf'SSVEP Segment {5 + 2*i} Hz'\u001b[0m\u001b[0;34m,\u001b[0m \u001b[0mcolor\u001b[0m\u001b[0;34m=\u001b[0m\u001b[0;34m'blue'\u001b[0m\u001b[0;34m,\u001b[0m \u001b[0mtarget_freqs\u001b[0m\u001b[0;34m=\u001b[0m\u001b[0;34m[\u001b[0m\u001b[0;36m5\u001b[0m\u001b[0;34m,\u001b[0m \u001b[0;36m7\u001b[0m\u001b[0;34m]\u001b[0m\u001b[0;34m,\u001b[0m \u001b[0mbandwidth\u001b[0m\u001b[0;34m=\u001b[0m\u001b[0;36m2\u001b[0m\u001b[0;34m)\u001b[0m\u001b[0;34m\u001b[0m\u001b[0;34m\u001b[0m\u001b[0m\n\u001b[1;32m     97\u001b[0m \u001b[0;34m\u001b[0m\u001b[0m\n",
            "\u001b[0;32m<ipython-input-73-d79dcdb0b0f6>\u001b[0m in \u001b[0;36mbandpass_filter\u001b[0;34m(data, lowcut, highcut, fs, order)\u001b[0m\n\u001b[1;32m     83\u001b[0m         \u001b[0;32mreturn\u001b[0m \u001b[0mdata\u001b[0m  \u001b[0;31m# Return original data if too short\u001b[0m\u001b[0;34m\u001b[0m\u001b[0;34m\u001b[0m\u001b[0m\n\u001b[1;32m     84\u001b[0m     \u001b[0mb\u001b[0m\u001b[0;34m,\u001b[0m \u001b[0ma\u001b[0m \u001b[0;34m=\u001b[0m \u001b[0mbutter_bandpass\u001b[0m\u001b[0;34m(\u001b[0m\u001b[0mlowcut\u001b[0m\u001b[0;34m,\u001b[0m \u001b[0mhighcut\u001b[0m\u001b[0;34m,\u001b[0m \u001b[0mfs\u001b[0m\u001b[0;34m,\u001b[0m \u001b[0morder\u001b[0m\u001b[0;34m=\u001b[0m\u001b[0morder\u001b[0m\u001b[0;34m)\u001b[0m\u001b[0;34m\u001b[0m\u001b[0;34m\u001b[0m\u001b[0m\n\u001b[0;32m---> 85\u001b[0;31m     \u001b[0my\u001b[0m \u001b[0;34m=\u001b[0m \u001b[0mfiltfilt\u001b[0m\u001b[0;34m(\u001b[0m\u001b[0mb\u001b[0m\u001b[0;34m,\u001b[0m \u001b[0ma\u001b[0m\u001b[0;34m,\u001b[0m \u001b[0mdata\u001b[0m\u001b[0;34m)\u001b[0m\u001b[0;34m\u001b[0m\u001b[0;34m\u001b[0m\u001b[0m\n\u001b[0m\u001b[1;32m     86\u001b[0m     \u001b[0;32mreturn\u001b[0m \u001b[0my\u001b[0m\u001b[0;34m\u001b[0m\u001b[0;34m\u001b[0m\u001b[0m\n\u001b[1;32m     87\u001b[0m \u001b[0;34m\u001b[0m\u001b[0m\n",
            "\u001b[0;32m/usr/local/lib/python3.10/dist-packages/scipy/signal/_signaltools.py\u001b[0m in \u001b[0;36mfiltfilt\u001b[0;34m(b, a, x, axis, padtype, padlen, method, irlen)\u001b[0m\n\u001b[1;32m   4169\u001b[0m \u001b[0;34m\u001b[0m\u001b[0m\n\u001b[1;32m   4170\u001b[0m     \u001b[0;31m# method == \"pad\"\u001b[0m\u001b[0;34m\u001b[0m\u001b[0;34m\u001b[0m\u001b[0m\n\u001b[0;32m-> 4171\u001b[0;31m     edge, ext = _validate_pad(padtype, padlen, x, axis,\n\u001b[0m\u001b[1;32m   4172\u001b[0m                               ntaps=max(len(a), len(b)))\n\u001b[1;32m   4173\u001b[0m \u001b[0;34m\u001b[0m\u001b[0m\n",
            "\u001b[0;32m/usr/local/lib/python3.10/dist-packages/scipy/signal/_signaltools.py\u001b[0m in \u001b[0;36m_validate_pad\u001b[0;34m(padtype, padlen, x, axis, ntaps)\u001b[0m\n\u001b[1;32m   4219\u001b[0m     \u001b[0;31m# x's 'axis' dimension must be bigger than edge.\u001b[0m\u001b[0;34m\u001b[0m\u001b[0;34m\u001b[0m\u001b[0m\n\u001b[1;32m   4220\u001b[0m     \u001b[0;32mif\u001b[0m \u001b[0mx\u001b[0m\u001b[0;34m.\u001b[0m\u001b[0mshape\u001b[0m\u001b[0;34m[\u001b[0m\u001b[0maxis\u001b[0m\u001b[0;34m]\u001b[0m \u001b[0;34m<=\u001b[0m \u001b[0medge\u001b[0m\u001b[0;34m:\u001b[0m\u001b[0;34m\u001b[0m\u001b[0;34m\u001b[0m\u001b[0m\n\u001b[0;32m-> 4221\u001b[0;31m         raise ValueError(\"The length of the input vector x must be greater \"\n\u001b[0m\u001b[1;32m   4222\u001b[0m                          \"than padlen, which is %d.\" % edge)\n\u001b[1;32m   4223\u001b[0m \u001b[0;34m\u001b[0m\u001b[0m\n",
            "\u001b[0;31mValueError\u001b[0m: The length of the input vector x must be greater than padlen, which is 33."
          ]
        }
      ]
    },
    {
      "cell_type": "code",
      "execution_count": null,
      "metadata": {
        "colab": {
          "background_save": true
        },
        "id": "wCcC90fOm-4X"
      },
      "outputs": [],
      "source": [
        "# ฟังก์ชันสำหรับตัดสัญญาณ EEG รอบๆ มาร์กเกอร์ที่เลือก\n",
        "def cut_signal_for_selected_markers(df, sampling_rate, markers, selected_markers, pre_marker_sec=1, post_marker_sec=2):\n",
        "    cut_segments = []\n",
        "    for timestamp, marker in markers:\n",
        "        marker_value = marker[0]\n",
        "\n",
        "        # ตรวจสอบว่าค่ามาร์กเกอร์อยู่ในรายการมาร์กเกอร์ที่ต้องการหรือไม่\n",
        "        if marker_value in selected_markers:\n",
        "            # คำนวณตำแหน่งเริ่มต้นและสิ้นสุดสำหรับช่วงสัญญาณ\n",
        "            start_idx = int((timestamp - pre_marker_sec) * sampling_rate)\n",
        "            end_idx = int((timestamp + post_marker_sec) * sampling_rate)\n",
        "\n",
        "            # ตรวจสอบว่าตำแหน่งอยู่ภายในขอบเขตข้อมูล\n",
        "            if start_idx >= 0 and end_idx <= len(df):\n",
        "                segment = df.iloc[start_idx:end_idx]  # ตัดสัญญาณช่วงที่สนใจ\n",
        "                cut_segments.append((segment, marker_value))\n",
        "\n",
        "    return cut_segments"
      ]
    },
    {
      "cell_type": "code",
      "execution_count": null,
      "metadata": {
        "colab": {
          "background_save": true
        },
        "id": "N7dgxCr9gFnT"
      },
      "outputs": [],
      "source": [
        "# Show markers\n",
        "print(\"Markers from File 1:\")\n",
        "for timestamp, marker in markers1:\n",
        "    print(f\"Timestamp: {timestamp:.2f}, Marker: {marker[0]}\")"
      ]
    },
    {
      "cell_type": "code",
      "execution_count": null,
      "metadata": {
        "colab": {
          "background_save": true
        },
        "id": "AhulFp1ne0LD"
      },
      "outputs": [],
      "source": [
        "# Function for cutting EEG signal around specific markers\n",
        "def cut_signal_for_selected_markers(df, sampling_rate, markers, selected_markers, pre_marker_sec=1, post_marker_sec=2):\n",
        "    cut_segments = []\n",
        "    for timestamp, marker in markers:\n",
        "        marker_value = marker[0]\n",
        "\n",
        "        # Check if the marker is in the selected markers list\n",
        "        if marker_value in selected_markers:\n",
        "            start_idx = int((timestamp - pre_marker_sec) * sampling_rate)\n",
        "            end_idx = int((timestamp + post_marker_sec) * sampling_rate)\n",
        "\n",
        "            # Check that the indices are within bounds\n",
        "            if start_idx >= 0 and end_idx <= len(df):\n",
        "                segment = df.iloc[start_idx:end_idx]\n",
        "                cut_segments.append((segment, marker_value))\n",
        "\n",
        "    return cut_segments"
      ]
    },
    {
      "cell_type": "code",
      "execution_count": null,
      "metadata": {
        "colab": {
          "background_save": true
        },
        "id": "eoDwiUxue5Ud"
      },
      "outputs": [],
      "source": [
        "# Define selected markers (2, 12, 4, 14)\n",
        "selected_markers = [2, 12, 4, 14]\n",
        "print(selected_markers)"
      ]
    },
    {
      "cell_type": "code",
      "execution_count": null,
      "metadata": {
        "colab": {
          "background_save": true
        },
        "id": "5qjDSCKce8fZ"
      },
      "outputs": [],
      "source": [
        "# Load data\n",
        "df1, sampling_rate1, markers1 = load_data(io.BytesIO(uploaded[file_name]))\n",
        "print(df1, sampling_rate1, markers1)"
      ]
    },
    {
      "cell_type": "code",
      "execution_count": null,
      "metadata": {
        "colab": {
          "background_save": true
        },
        "id": "qt_35EB_fA-l"
      },
      "outputs": [],
      "source": [
        "# Cut segments for the selected markers\n",
        "cut_segments_selected = cut_signal_for_selected_markers(df1, sampling_rate1, markers1, selected_markers)\n",
        "\n",
        "print(f\"จำนวน segment ที่ถูกตัด: {len(cut_segments_selected)}\")"
      ]
    },
    {
      "cell_type": "code",
      "execution_count": null,
      "metadata": {
        "colab": {
          "background_save": true
        },
        "id": "jdYUd0fLf5cs"
      },
      "outputs": [],
      "source": [
        "# Bandpass filter function\n",
        "def butter_bandpass(lowcut, highcut, fs, order=5):\n",
        "    nyq = 0.5 * fs\n",
        "    low = lowcut / nyq\n",
        "    high = highcut / nyq\n",
        "    b, a = butter(order, [low, high], btype='band')\n",
        "    return b, a\n",
        "\n",
        "def bandpass_filter(data, lowcut, highcut, fs, order=5):\n",
        "    b, a = butter_bandpass(lowcut, highcut, fs, order=order)\n",
        "    y = filtfilt(b, a, data)\n",
        "    return y"
      ]
    },
    {
      "cell_type": "code",
      "execution_count": null,
      "metadata": {
        "colab": {
          "background_save": true
        },
        "id": "KeE20BHKgAjZ"
      },
      "outputs": [],
      "source": [
        "# Plot power spectrum\n",
        "def plot_power_spectrum(df, sampling_rate, markers, channels, title_prefix, color='blue', target_freqs=[5, 7], bandwidth=2):\n",
        "    plt.figure(figsize=(15, 20))\n",
        "\n",
        "    for i, channel in enumerate(channels):\n",
        "        if channel in df.columns:\n",
        "            signal = df[channel].values\n",
        "            filtered_signal = bandpass_filter(signal, 1, 50, sampling_rate)\n",
        "\n",
        "            N = len(filtered_signal)\n",
        "            T = 1.0 / sampling_rate\n",
        "            yf = fft(filtered_signal)\n",
        "            xf = np.fft.fftfreq(N, T)[:N // 2]\n",
        "            power_spectrum = 2.0 / N * np.abs(yf[:N // 2])\n",
        "\n",
        "            plt.subplot(len(channels), 1, i + 1)\n",
        "            plt.plot(xf, power_spectrum, color=color, label=f'{title_prefix} {channel}')\n",
        "            plt.title(f'Power Spectrum for {channel}')\n",
        "            plt.xlabel('Frequency (Hz)')\n",
        "            plt.ylabel('Power')\n",
        "            plt.grid()\n",
        "            plt.xlim(0, 10)\n",
        "            plt.xticks(np.arange(1, 11, 1))\n",
        "\n",
        "            for target_freq in target_freqs:\n",
        "                plt.axvspan(target_freq - bandwidth, target_freq + bandwidth, color='orange', alpha=0.3, label=f'Target: {target_freq} Hz ±{bandwidth} Hz')\n",
        "\n",
        "            plt.legend()\n",
        "        else:\n",
        "            print(f'Warning: {channel} not found in data columns.')\n",
        "\n",
        "    plt.tight_layout()\n",
        "    plt.show()"
      ]
    },
    {
      "cell_type": "code",
      "execution_count": null,
      "metadata": {
        "colab": {
          "background_save": true
        },
        "id": "-k_OkF5cgKuN"
      },
      "outputs": [],
      "source": [
        "# Plot power spectrum for each selected segment\n",
        "channels = ['O1', 'Fz', 'O2', 'Cz', 'Pz']\n",
        "plot_power_spectrum(df1, sampling_rate1, markers1, channels, 'File 1', color='blue', target_freqs=[5, 7], bandwidth=2)"
      ]
    }
  ],
  "metadata": {
    "colab": {
      "provenance": [],
      "authorship_tag": "ABX9TyP3DvHBFcsNi1D16ENPxgHT",
      "include_colab_link": true
    },
    "kernelspec": {
      "display_name": "Python 3",
      "name": "python3"
    },
    "language_info": {
      "name": "python"
    }
  },
  "nbformat": 4,
  "nbformat_minor": 0
}